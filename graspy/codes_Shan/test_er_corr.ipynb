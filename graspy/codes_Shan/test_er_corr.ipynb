{
 "cells": [
  {
   "cell_type": "code",
   "execution_count": 2,
   "metadata": {},
   "outputs": [
    {
     "ename": "ModuleNotFoundError",
     "evalue": "No module named 'er_corr'",
     "output_type": "error",
     "traceback": [
      "\u001b[0;31m---------------------------------------------------------------------------\u001b[0m",
      "\u001b[0;31mModuleNotFoundError\u001b[0m                       Traceback (most recent call last)",
      "\u001b[0;32m<ipython-input-2-583a43821f4a>\u001b[0m in \u001b[0;36m<module>\u001b[0;34m\u001b[0m\n\u001b[1;32m      1\u001b[0m \u001b[0;32mimport\u001b[0m \u001b[0mnumpy\u001b[0m \u001b[0;32mas\u001b[0m \u001b[0mnp\u001b[0m\u001b[0;34m\u001b[0m\u001b[0;34m\u001b[0m\u001b[0m\n\u001b[0;32m----> 2\u001b[0;31m \u001b[0;32mfrom\u001b[0m \u001b[0mer_corr\u001b[0m \u001b[0;32mimport\u001b[0m \u001b[0mer_corr\u001b[0m\u001b[0;34m\u001b[0m\u001b[0;34m\u001b[0m\u001b[0m\n\u001b[0m\u001b[1;32m      3\u001b[0m \u001b[0;34m\u001b[0m\u001b[0m\n\u001b[1;32m      4\u001b[0m \u001b[0;34m\u001b[0m\u001b[0m\n\u001b[1;32m      5\u001b[0m \u001b[0;32mdef\u001b[0m \u001b[0mtest_er_corr\u001b[0m\u001b[0;34m(\u001b[0m\u001b[0mn\u001b[0m\u001b[0;34m,\u001b[0m \u001b[0mp\u001b[0m\u001b[0;34m,\u001b[0m \u001b[0mrho\u001b[0m\u001b[0;34m=\u001b[0m\u001b[0;36m0.2\u001b[0m\u001b[0;34m)\u001b[0m\u001b[0;34m:\u001b[0m\u001b[0;34m\u001b[0m\u001b[0;34m\u001b[0m\u001b[0m\n",
      "\u001b[0;31mModuleNotFoundError\u001b[0m: No module named 'er_corr'"
     ]
    }
   ],
   "source": [
    "import numpy as np\n",
    "from er_corr import er_corr\n",
    "\n",
    "\n",
    "def test_er_corr(n, p, rho=0.2):\n",
    "    \"\"\"\n",
    "    Test the generation function of correlated distribution: er_corr\n",
    "    Show the probabilities of graph2 while elements in graph1 is 1 and 0\n",
    "    Parameter\n",
    "    ---------\n",
    "    n: dimension if the matrix\n",
    "    p: a real number in the interval (0,1)\n",
    "        the probability of G1 with the Bernoulli distribution\n",
    "        also a parameter for generate G2\n",
    "    rho: a real number in the interval [0,1]\n",
    "        another parameter to definite the correlation between graph1 and graph2\n",
    "    Returns\n",
    "    -------\n",
    "    real_prob1: the probability of 1 in graph2 when the element of the same place is 1\n",
    "    real_prob2: the probability of 1 in graph2 when the element of the same place is 0\n",
    "    Examples\n",
    "    --------\n",
    "    >>> test_er_corr(100, 0.5, 0.3)\n",
    "    >>> print(G1)\n",
    "    >>> print(G2)\n",
    "    0.6501824077827321\n",
    "    0.3505724437425978\n",
    "    To see the mean variance of k times between real and expected correlations:\n",
    "    >>> g = 20\n",
    "    >>> total = 0\n",
    "    >>> for i in range(g):\n",
    "    >>>     pb1, pb2 = test_er_corr(100, 0.5, 0.3)\n",
    "    >>>     total += var\n",
    "    >>> print(total/g)\n",
    "    0.008869200017044656\n",
    "    \"\"\"\n",
    "    global exp_prob1, exp_prob2, real_prob1, real_prob2, var\n",
    "\n",
    "    prob1 = 0\n",
    "    prob2 = 0\n",
    "    origin_G1, G1 = er_corr(n, p, rho)\n",
    "    for i in range(n):\n",
    "        for j in range(n):\n",
    "            if origin_G1[i][j] == 1 and G1[i][j] == 1:\n",
    "                prob1 += 1\n",
    "            if origin_G1[i][j] == 0 and G1[i][j] == 1:\n",
    "                prob2 += 1\n",
    "    exp_prob1 = p + rho * (1 - p)\n",
    "    real_prob1 = prob1/(origin_G1.mean()*n**2)\n",
    "    exp_prob2 = p*(1-rho)\n",
    "    real_prob2 = prob2 / ((1-origin_G1.mean()) * n ** 2)\n",
    "    var = np.sqrt((exp_prob1 - real_prob1)**2 + (exp_prob2 - real_prob2)**2)\n",
    "    var = float(var)\n",
    "    return real_prob1, real_prob2\n",
    "\n",
    "\n",
    "if __name__ == '__main__':\n",
    "    g = 20\n",
    "    total = 0\n",
    "    for i in range(g):\n",
    "        pb1, pb2 = test_er_corr(100, 0.5, 0.3)\n",
    "        total += var\n",
    "    print(total/g)"
   ]
  },
  {
   "cell_type": "code",
   "execution_count": null,
   "metadata": {},
   "outputs": [],
   "source": []
  }
 ],
 "metadata": {
  "kernelspec": {
   "display_name": "Python 3",
   "language": "python",
   "name": "python3"
  },
  "language_info": {
   "codemirror_mode": {
    "name": "ipython",
    "version": 3
   },
   "file_extension": ".py",
   "mimetype": "text/x-python",
   "name": "python",
   "nbconvert_exporter": "python",
   "pygments_lexer": "ipython3",
   "version": "3.6.8"
  }
 },
 "nbformat": 4,
 "nbformat_minor": 2
}
