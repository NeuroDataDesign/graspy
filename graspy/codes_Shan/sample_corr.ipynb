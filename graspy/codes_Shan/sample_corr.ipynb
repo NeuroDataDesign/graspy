{
 "cells": [
  {
   "cell_type": "code",
   "execution_count": 3,
   "metadata": {},
   "outputs": [
    {
     "data": {
      "text/plain": [
       "<matplotlib.axes._subplots.AxesSubplot at 0x1a1ea9fe80>"
      ]
     },
     "execution_count": 3,
     "metadata": {},
     "output_type": "execute_result"
    },
    {
     "data": {
      "image/png": "[encoded data removed]",
      "text/plain": [
       "<Figure size 432x288 with 1 Axes>"
      ]
     },
     "metadata": {
      "needs_background": "light"
     },
     "output_type": "display_data"
    }
   ],
   "source": [
    "#%%\n",
    "# generate a correlated graph with the help of \n",
    "# sample_edges function in graspy\n",
    "import numpy as np\n",
    "from graspy.simulations import sample_edges\n",
    "from scipy.stats import bernoulli\n",
    "import copy\n",
    "import warnings\n",
    "import seaborn as sns\n",
    "\n",
    "%matplotlib inline\n",
    "#%%\n",
    "\"\"\"\n",
    "for the simulation, we simply use the P matrix with all the same probability\n",
    "but we can also define the P matrix by ourselves\n",
    "for example: \n",
    "    if we have p matrix like this:\n",
    "    p = [0.5,0.5,0.1,0.5,0.5,0.5,0.1,0.5,0.5]\n",
    "    P = np.reshape(p,(3,3))\n",
    "    we can get the reniewed P matrix like:\n",
    "    [[0.35 0.35 0.07]\n",
    "     [0.35 0.35 0.65]\n",
    "     [0.07 0.65 0.35]]\n",
    "     with the generated G2 like:\n",
    "    [[0. 0. 0.]\n",
    "     [0. 0. 1.]\n",
    "     [0. 1. 0.]]\n",
    "\"\"\"\n",
    "p = 0.5\n",
    "rho = 0.3\n",
    "n = 100\n",
    "P = p * np.ones( (n,n) )\n",
    "Rho = rho * np.ones((n,n))\n",
    "#%%\n",
    "\n",
    "def sample_corr(P, Rho, directed=False, loops=False):\n",
    "    G1 = sample_edges(P, directed = False, loops = False)\n",
    "    origin_G1 = copy.deepcopy(G1)\n",
    "    prob1 = origin_G1.sum()/n**2\n",
    "\n",
    "    P1 = copy.deepcopy(P)\n",
    "    Rho = copy.deepcopy(Rho)\n",
    "    for i in range(n):\n",
    "        for j in range(n):\n",
    "            if G1[i][j] == 1:\n",
    "                P1[i][j] = P[i][j]+Rho[i][j]*(1-P[i][j])\n",
    "            else:\n",
    "                P1[i][j] = P[i][j]*(1-Rho[i][j])\n",
    "    prob2 = P1.sum()/n**2\n",
    "    \n",
    "    G2 = sample_edges(P1, directed = False, loops = False)\n",
    "    G2 = G2 - np.diag(np.diag(G2))\n",
    "    prob3 = G2.sum()/n**2\n",
    "    return G2\n",
    "\n",
    "p=[]\n",
    "k=0\n",
    "sum=0\n",
    "for i in range (600):\n",
    "    k = sample_corr(P, Rho, directed=False, loops=False)\n",
    "    p.append(k)\n",
    "p.sort()\n",
    "#print(f'mean of prob',sum/10)\n",
    "#print(p)\n",
    "%matplotlib inline\n",
    "sns.distplot(p,axlabel='probability', kde_kws={\"label\":\"smoothed prob. line\",\"color\":\"k\"})"
   ]
  },
  {
   "cell_type": "code",
   "execution_count": null,
   "metadata": {},
   "outputs": [],
   "source": [
    "\"\"\"\n",
    "def similar_sample_corr(P, Rho, directed=False, loops=False):\n",
    "    G1 = sample_edges(P, directed = False, loops = False)\n",
    "    origin_G1 = copy.deepcopy(G1)\n",
    "    prob1 = origin_G1.sum()/n**2\n",
    "\n",
    "    P1 = copy.deepcopy(P)\n",
    "    Rho = copy.deepcopy(Rho)\n",
    "    P1[G1 == 1] = P+Rho*(1-P)\n",
    "    P1[G1 == 0] = P[i][j]*(1-Rho[i][j])\n",
    "    prob2 = P1.sum()/n**2\n",
    "    \n",
    "    G2 = sample_edges(P1, directed = False, loops = False)\n",
    "    G2 = G2 - np.diag(np.diag(G2))\n",
    "    prob3 = G2.sum()/n**2\n",
    "    return G1, G2, P1, prob1, prob2, prob3\n",
    "\n",
    "# seems like this way doesn't work \n",
    "# because we can not do things to the whole matrix \n",
    "# or each element of the matrix\n",
    "# but if I define each element of P with a bernoullli distribution,\n",
    "# it will be the one-time thing (if the original \"1\" position is 1,\n",
    "# the elements on the original \"1\" position are 1)\n",
    "\n",
    "g1, g2, p1, prob1, prob2, prob3 = similar_sample_corr(P, Rho, directed=False, loops=False)\n",
    "#print(g2)\n",
    "print(f'prob of 1 in G1 is',prob1)\n",
    "print(f'prob of 1 in Pnew is',prob2)\n",
    "print(f'prob of 1 in g2 is',prob3)\n",
    "print(p1)\n",
    "print(g1)\n",
    "\"\"\""
   ]
  }
 ],
 "metadata": {
  "kernelspec": {
   "display_name": "Python 3",
   "language": "python",
   "name": "python3"
  },
  "language_info": {
   "codemirror_mode": {
    "name": "ipython",
    "version": 3
   },
   "file_extension": ".py",
   "mimetype": "text/x-python",
   "name": "python",
   "nbconvert_exporter": "python",
   "pygments_lexer": "ipython3",
   "version": "3.6.8"
  }
 },
 "nbformat": 4,
 "nbformat_minor": 2
}
