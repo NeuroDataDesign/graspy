{
 "cells": [
  {
   "cell_type": "code",
   "execution_count": 1,
   "metadata": {},
   "outputs": [],
   "source": [
    "# This is the generation function for er_correlated graph\n",
    "# Only for showing results through nbviewer\n",
    "from graspy.simulations import er_np\n",
    "from scipy.stats import bernoulli\n",
    "import copy\n",
    "\n",
    "def er_corr(n, p, rho):\n",
    "        G1 = er_np(n, p)\n",
    "        origin_G1 = copy.deepcopy(G1)\n",
    "        sumG1 = 0\n",
    "        for i in range(n):\n",
    "            for j in range(n):\n",
    "                sumG1 += origin_G1[i][j]\n",
    "\n",
    "        for i in range(n):\n",
    "            for j in range(n):\n",
    "                if G1[i][j] == 1:\n",
    "                    G1[i][j] = bernoulli.rvs(p+rho*(1-p), size=1, loc=0)\n",
    "                else:\n",
    "                    G1[i][j] = bernoulli.rvs(p*(1-rho), size=1, loc=0)\n",
    "        sumG2 = 0\n",
    "        for i in range(n):\n",
    "            for j in range(n):\n",
    "                sumG2 += G1[i][j]\n",
    "\n",
    "        return origin_G1, G1"
   ]
  },
  {
   "cell_type": "code",
   "execution_count": 2,
   "metadata": {},
   "outputs": [],
   "source": [
    "import numpy as np\n",
    "# from er_corr import er_corr\n",
    "\n",
    "\n",
    "def test_er_corr(n, p, rho=0.2):\n",
    "    \"\"\"\n",
    "    Test the generation function of correlated distribution: er_corr\n",
    "    Show the probabilities of graph2 while elements in graph1 is 1 and 0\n",
    "    Parameter\n",
    "    ---------\n",
    "    n: dimension if the matrix\n",
    "    p: a real number in the interval (0,1)\n",
    "        the probability of G1 with the Bernoulli distribution\n",
    "        also a parameter for generate G2\n",
    "    rho: a real number in the interval [0,1]\n",
    "        another parameter to definite the correlation between graph1 and graph2\n",
    "    Returns\n",
    "    -------\n",
    "    real_prob1: the probability of 1 in graph2 when the element of the same place is 1\n",
    "    real_prob2: the probability of 1 in graph2 when the element of the same place is 0\n",
    "    Examples\n",
    "    --------\n",
    "    >>> test_er_corr(100, 0.5, 0.3)\n",
    "    >>> print(G1)\n",
    "    >>> print(G2)\n",
    "    0.6501824077827321\n",
    "    0.3505724437425978\n",
    "    To see the mean variance of k times between real and expected correlations:\n",
    "    >>> g = 20\n",
    "    >>> total = 0\n",
    "    >>> for i in range(g):\n",
    "    >>>     pb1, pb2 = test_er_corr(100, 0.5, 0.3)\n",
    "    >>>     total += var\n",
    "    >>> print(total/g)\n",
    "    0.008869200017044656\n",
    "    \"\"\"\n",
    "    global exp_prob1, exp_prob2, real_prob1, real_prob2, var\n",
    "\n",
    "    prob1 = 0\n",
    "    prob2 = 0\n",
    "    origin_G1, G1 = er_corr(n, p, rho)\n",
    "    for i in range(n):\n",
    "        for j in range(n):\n",
    "            if origin_G1[i][j] == 1 and G1[i][j] == 1:\n",
    "                prob1 += 1\n",
    "            if origin_G1[i][j] == 0 and G1[i][j] == 1:\n",
    "                prob2 += 1\n",
    "    exp_prob1 = p + rho * (1 - p)\n",
    "    real_prob1 = prob1/(origin_G1.mean()*n**2)\n",
    "    exp_prob2 = p*(1-rho)\n",
    "    real_prob2 = prob2 / ((1-origin_G1.mean()) * n ** 2)\n",
    "    var = np.sqrt((exp_prob1 - real_prob1)**2 + (exp_prob2 - real_prob2)**2)\n",
    "    var = float(var)\n",
    "    return real_prob1, real_prob2"
   ]
  },
  {
   "cell_type": "code",
   "execution_count": 3,
   "metadata": {},
   "outputs": [
    {
     "name": "stdout",
     "output_type": "stream",
     "text": [
      "0.00779548849834005\n"
     ]
    }
   ],
   "source": [
    "if __name__ == '__main__':\n",
    "    g = 20\n",
    "    total = 0\n",
    "    for i in range(g):\n",
    "        pb1, pb2 = test_er_corr(100, 0.5, 0.3)\n",
    "        total += var\n",
    "    print(total/g)"
   ]
  },
  {
   "cell_type": "code",
   "execution_count": 4,
   "metadata": {},
   "outputs": [],
   "source": [
    "#from er_corr1 import er_corr\n",
    "import numpy as np\n",
    "import matplotlib.pyplot as plt\n",
    "import copy\n",
    "\n",
    "\n",
    "def figure_p(n, p, rho):\n",
    "    global origin_G1, G1, m_org\n",
    "\n",
    "    G1, G2 = er_corr(10, 0.5, 0.3)\n",
    "    origin_G1, G1 = er_corr(n, p, rho)\n",
    "    # m_org = origin_G1.mean()\n",
    "    m_gen = float(G1.mean())\n",
    "    return m_gen\n",
    "\n"
   ]
  },
  {
   "cell_type": "code",
   "execution_count": 5,
   "metadata": {},
   "outputs": [
    {
     "data": {
      "text/plain": [
       "[<matplotlib.lines.Line2D at 0x1a2591c908>]"
      ]
     },
     "execution_count": 5,
     "metadata": {},
     "output_type": "execute_result"
    },
    {
     "data": {
      "image/png": "[encoded data removed]",
      "text/plain": [
       "<Figure size 432x288 with 1 Axes>"
      ]
     },
     "metadata": {
      "needs_background": "light"
     },
     "output_type": "display_data"
    }
   ],
   "source": [
    "import numpy as np # fundamental package for scientific computing\n",
    "import matplotlib.pyplot as plt\n",
    "%matplotlib inline \n",
    "\n",
    "n = 300\n",
    "prob = []\n",
    "for i in range(n):\n",
    "    prob.append(figure_p(100, 0.5, 0.3))\n",
    "    prob.sort()\n",
    "#print(prob)\n",
    "plt.draw()\n",
    "plt.plot(prob)"
   ]
  },
  {
   "cell_type": "code",
   "execution_count": 6,
   "metadata": {},
   "outputs": [
    {
     "name": "stdout",
     "output_type": "stream",
     "text": [
      "0.4986\n",
      "0.4985536666666667\n"
     ]
    }
   ],
   "source": [
    "print(np.median(prob))\n",
    "print(np.mean(prob))"
   ]
  },
  {
   "cell_type": "code",
   "execution_count": 7,
   "metadata": {},
   "outputs": [
    {
     "data": {
      "text/plain": [
       "<matplotlib.axes._subplots.AxesSubplot at 0x1a255b29b0>"
      ]
     },
     "execution_count": 7,
     "metadata": {},
     "output_type": "execute_result"
    },
    {
     "data": {
      "image/png": "[encoded data removed]",
      "text/plain": [
       "<Figure size 432x288 with 1 Axes>"
      ]
     },
     "metadata": {
      "needs_background": "light"
     },
     "output_type": "display_data"
    }
   ],
   "source": [
    "import seaborn as sns\n",
    "%matplotlib inline\n",
    "\n",
    "sns.distplot(prob,axlabel='probability', kde_kws={\"label\":\"smoothed prob. line\",\"color\":\"k\"})"
   ]
  }
 ],
 "metadata": {
  "kernelspec": {
   "display_name": "Python 3",
   "language": "python",
   "name": "python3"
  },
  "language_info": {
   "codemirror_mode": {
    "name": "ipython",
    "version": 3
   },
   "file_extension": ".py",
   "mimetype": "text/x-python",
   "name": "python",
   "nbconvert_exporter": "python",
   "pygments_lexer": "ipython3",
   "version": "3.6.8"
  }
 },
 "nbformat": 4,
 "nbformat_minor": 2
}
