{
 "cells": [
  {
   "cell_type": "code",
   "execution_count": 6,
   "metadata": {},
   "outputs": [],
   "source": [
    "# This is the generation function for er_correlated graph\n",
    "# Only for showing results through nbviewer\n",
    "from graspy.simulations import er_np\n",
    "from scipy.stats import bernoulli\n",
    "import copy\n",
    "\n",
    "def er_corr(n, p, rho):\n",
    "        G1 = er_np(n, p)\n",
    "        origin_G1 = copy.deepcopy(G1)\n",
    "        sumG1 = 0\n",
    "        for i in range(n):\n",
    "            for j in range(n):\n",
    "                sumG1 += origin_G1[i][j]\n",
    "\n",
    "        for i in range(n):\n",
    "            for j in range(n):\n",
    "                if G1[i][j] == 1:\n",
    "                    G1[i][j] = bernoulli.rvs(p+rho*(1-p), size=1, loc=0)\n",
    "                else:\n",
    "                    G1[i][j] = bernoulli.rvs(p*(1-rho), size=1, loc=0)\n",
    "        sumG2 = 0\n",
    "        for i in range(n):\n",
    "            for j in range(n):\n",
    "                sumG2 += G1[i][j]\n",
    "\n",
    "        return origin_G1, G1"
   ]
  },
  {
   "cell_type": "code",
   "execution_count": 2,
   "metadata": {},
   "outputs": [],
   "source": [
    "import numpy as np\n",
    "# from er_corr import er_corr\n",
    "\n",
    "\n",
    "def test_er_corr(n, p, rho=0.2):\n",
    "    \"\"\"\n",
    "    Test the generation function of correlated distribution: er_corr\n",
    "    Show the probabilities of graph2 while elements in graph1 is 1 and 0\n",
    "    Parameter\n",
    "    ---------\n",
    "    n: dimension if the matrix\n",
    "    p: a real number in the interval (0,1)\n",
    "        the probability of G1 with the Bernoulli distribution\n",
    "        also a parameter for generate G2\n",
    "    rho: a real number in the interval [0,1]\n",
    "        another parameter to definite the correlation between graph1 and graph2\n",
    "    Returns\n",
    "    -------\n",
    "    real_prob1: the probability of 1 in graph2 when the element of the same place is 1\n",
    "    real_prob2: the probability of 1 in graph2 when the element of the same place is 0\n",
    "    Examples\n",
    "    --------\n",
    "    >>> test_er_corr(100, 0.5, 0.3)\n",
    "    >>> print(G1)\n",
    "    >>> print(G2)\n",
    "    0.6501824077827321\n",
    "    0.3505724437425978\n",
    "    To see the mean variance of k times between real and expected correlations:\n",
    "    >>> g = 20\n",
    "    >>> total = 0\n",
    "    >>> for i in range(g):\n",
    "    >>>     pb1, pb2 = test_er_corr(100, 0.5, 0.3)\n",
    "    >>>     total += var\n",
    "    >>> print(total/g)\n",
    "    0.008869200017044656\n",
    "    \"\"\"\n",
    "    global exp_prob1, exp_prob2, real_prob1, real_prob2, var\n",
    "\n",
    "    prob1 = 0\n",
    "    prob2 = 0\n",
    "    origin_G1, G1 = er_corr(n, p, rho)\n",
    "    for i in range(n):\n",
    "        for j in range(n):\n",
    "            if origin_G1[i][j] == 1 and G1[i][j] == 1:\n",
    "                prob1 += 1\n",
    "            if origin_G1[i][j] == 0 and G1[i][j] == 1:\n",
    "                prob2 += 1\n",
    "    exp_prob1 = p + rho * (1 - p)\n",
    "    real_prob1 = prob1/(origin_G1.mean()*n**2)\n",
    "    exp_prob2 = p*(1-rho)\n",
    "    real_prob2 = prob2 / ((1-origin_G1.mean()) * n ** 2)\n",
    "    var = np.sqrt((exp_prob1 - real_prob1)**2 + (exp_prob2 - real_prob2)**2)\n",
    "    var = float(var)\n",
    "    return real_prob1, real_prob2"
   ]
  },
  {
   "cell_type": "code",
   "execution_count": 3,
   "metadata": {},
   "outputs": [
    {
     "name": "stdout",
     "output_type": "stream",
     "text": [
      "0.008946656697805668\n"
     ]
    }
   ],
   "source": [
    "if __name__ == '__main__':\n",
    "    g = 20\n",
    "    total = 0\n",
    "    for i in range(g):\n",
    "        pb1, pb2 = test_er_corr(100, 0.5, 0.3)\n",
    "        total += var\n",
    "    print(total/g)"
   ]
  },
  {
   "cell_type": "code",
   "execution_count": 12,
   "metadata": {},
   "outputs": [],
   "source": [
    "#from er_corr1 import er_corr\n",
    "import numpy as np\n",
    "import matplotlib.pyplot as plt\n",
    "import copy\n",
    "\n",
    "\n",
    "def figure_p(n, p, rho):\n",
    "    global origin_G1, G1, m_org\n",
    "\n",
    "    G1, G2 = er_corr(10, 0.5, 0.3)\n",
    "    origin_G1, G1 = er_corr(n, p, rho)\n",
    "    # m_org = origin_G1.mean()\n",
    "    m_gen = float(G1.mean())\n",
    "    return m_gen\n",
    "\n"
   ]
  },
  {
   "cell_type": "code",
   "execution_count": 19,
   "metadata": {},
   "outputs": [
    {
     "name": "stdout",
     "output_type": "stream",
     "text": [
      "[0.4833, 0.4844, 0.4846, 0.4847, 0.4848, 0.4849, 0.4849, 0.485, 0.4857, 0.4861, 0.4862, 0.4863, 0.4868, 0.4869, 0.4871, 0.4873, 0.4875, 0.4875, 0.4877, 0.4879, 0.4879, 0.4879, 0.4881, 0.4882, 0.4882, 0.4882, 0.4883, 0.4885, 0.4886, 0.4888, 0.4888, 0.4888, 0.4889, 0.4889, 0.4889, 0.489, 0.489, 0.4891, 0.4891, 0.4892, 0.4893, 0.4894, 0.4894, 0.4896, 0.4896, 0.4897, 0.4898, 0.4899, 0.4899, 0.49, 0.49, 0.49, 0.4901, 0.4901, 0.4901, 0.4902, 0.4902, 0.4902, 0.4902, 0.4902, 0.4903, 0.4903, 0.4903, 0.4904, 0.4905, 0.4906, 0.4907, 0.4907, 0.4907, 0.4908, 0.4908, 0.4908, 0.491, 0.491, 0.491, 0.4911, 0.4911, 0.4911, 0.4911, 0.4912, 0.4912, 0.4912, 0.4913, 0.4913, 0.4913, 0.4914, 0.4914, 0.4914, 0.4915, 0.4915, 0.4915, 0.4916, 0.4916, 0.4916, 0.4916, 0.4917, 0.4917, 0.4917, 0.4917, 0.4918, 0.4918, 0.4918, 0.4918, 0.4918, 0.4918, 0.4918, 0.4918, 0.4919, 0.4919, 0.4919, 0.492, 0.492, 0.492, 0.492, 0.4921, 0.4921, 0.4921, 0.4922, 0.4922, 0.4922, 0.4922, 0.4922, 0.4922, 0.4922, 0.4923, 0.4923, 0.4923, 0.4923, 0.4923, 0.4924, 0.4924, 0.4924, 0.4924, 0.4925, 0.4925, 0.4926, 0.4927, 0.4927, 0.4927, 0.4928, 0.4928, 0.4928, 0.4928, 0.4928, 0.4928, 0.4929, 0.4929, 0.493, 0.493, 0.493, 0.493, 0.493, 0.4931, 0.4931, 0.4931, 0.4931, 0.4931, 0.4931, 0.4932, 0.4932, 0.4932, 0.4932, 0.4933, 0.4933, 0.4933, 0.4933, 0.4933, 0.4934, 0.4934, 0.4934, 0.4934, 0.4934, 0.4934, 0.4934, 0.4935, 0.4935, 0.4935, 0.4935, 0.4935, 0.4935, 0.4936, 0.4936, 0.4936, 0.4936, 0.4937, 0.4937, 0.4937, 0.4938, 0.4938, 0.4938, 0.4938, 0.4938, 0.4938, 0.4939, 0.494, 0.494, 0.494, 0.494, 0.494, 0.4941, 0.4941, 0.4941, 0.4941, 0.4941, 0.4941, 0.4941, 0.4941, 0.4942, 0.4942, 0.4942, 0.4942, 0.4943, 0.4943, 0.4943, 0.4943, 0.4943, 0.4943, 0.4943, 0.4943, 0.4943, 0.4944, 0.4944, 0.4944, 0.4944, 0.4944, 0.4945, 0.4945, 0.4945, 0.4945, 0.4945, 0.4945, 0.4946, 0.4946, 0.4946, 0.4946, 0.4946, 0.4946, 0.4946, 0.4947, 0.4947, 0.4947, 0.4947, 0.4947, 0.4948, 0.4948, 0.4948, 0.4948, 0.4948, 0.4948, 0.4949, 0.4949, 0.4949, 0.4949, 0.4949, 0.4949, 0.4949, 0.4949, 0.495, 0.495, 0.495, 0.495, 0.495, 0.495, 0.495, 0.495, 0.495, 0.4951, 0.4951, 0.4951, 0.4951, 0.4951, 0.4951, 0.4952, 0.4952, 0.4952, 0.4952, 0.4952, 0.4952, 0.4953, 0.4953, 0.4953, 0.4953, 0.4954, 0.4954, 0.4954, 0.4954, 0.4954, 0.4954, 0.4955, 0.4955, 0.4955, 0.4955, 0.4955, 0.4955, 0.4955, 0.4956, 0.4956, 0.4956, 0.4956, 0.4956, 0.4956, 0.4956, 0.4956, 0.4956, 0.4956, 0.4957, 0.4957, 0.4957, 0.4957, 0.4957, 0.4957, 0.4957, 0.4957, 0.4958, 0.4958, 0.4958, 0.4958, 0.4958, 0.4958, 0.4958, 0.4958, 0.4958, 0.4958, 0.4958, 0.4959, 0.4959, 0.4959, 0.4959, 0.496, 0.496, 0.496, 0.496, 0.496, 0.496, 0.496, 0.496, 0.496, 0.496, 0.4961, 0.4961, 0.4961, 0.4961, 0.4961, 0.4961, 0.4961, 0.4961, 0.4962, 0.4962, 0.4962, 0.4962, 0.4962, 0.4962, 0.4963, 0.4963, 0.4963, 0.4963, 0.4963, 0.4964, 0.4964, 0.4964, 0.4964, 0.4964, 0.4964, 0.4965, 0.4965, 0.4965, 0.4965, 0.4965, 0.4965, 0.4965, 0.4966, 0.4966, 0.4966, 0.4966, 0.4966, 0.4967, 0.4967, 0.4967, 0.4967, 0.4967, 0.4967, 0.4967, 0.4968, 0.4968, 0.4968, 0.4968, 0.4968, 0.4968, 0.4968, 0.4968, 0.4969, 0.4969, 0.4969, 0.4969, 0.4969, 0.4969, 0.4969, 0.4969, 0.4969, 0.497, 0.497, 0.497, 0.497, 0.497, 0.497, 0.4971, 0.4971, 0.4971, 0.4971, 0.4971, 0.4971, 0.4971, 0.4971, 0.4971, 0.4972, 0.4972, 0.4972, 0.4972, 0.4972, 0.4972, 0.4972, 0.4972, 0.4972, 0.4973, 0.4973, 0.4973, 0.4973, 0.4973, 0.4973, 0.4973, 0.4973, 0.4974, 0.4974, 0.4974, 0.4974, 0.4974, 0.4975, 0.4975, 0.4975, 0.4975, 0.4975, 0.4975, 0.4975, 0.4976, 0.4976, 0.4976, 0.4976, 0.4976, 0.4976, 0.4976, 0.4976, 0.4976, 0.4976, 0.4976, 0.4977, 0.4977, 0.4977, 0.4977, 0.4977, 0.4978, 0.4978, 0.4978, 0.4978, 0.4978, 0.4978, 0.4979, 0.4979, 0.4979, 0.4979, 0.4979, 0.4979, 0.4979, 0.498, 0.498, 0.498, 0.498, 0.498, 0.498, 0.498, 0.498, 0.498, 0.498, 0.498, 0.4981, 0.4981, 0.4981, 0.4981, 0.4981, 0.4981, 0.4981, 0.4981, 0.4981, 0.4982, 0.4982, 0.4982, 0.4982, 0.4982, 0.4982, 0.4982, 0.4982, 0.4983, 0.4983, 0.4983, 0.4983, 0.4983, 0.4983, 0.4983, 0.4983, 0.4983, 0.4983, 0.4984, 0.4984, 0.4984, 0.4984, 0.4984, 0.4985, 0.4985, 0.4985, 0.4985, 0.4985, 0.4985, 0.4985, 0.4985, 0.4985, 0.4985, 0.4986, 0.4986, 0.4986, 0.4986, 0.4986, 0.4986, 0.4986, 0.4986, 0.4986, 0.4986, 0.4986, 0.4987, 0.4987, 0.4987, 0.4987, 0.4987, 0.4987, 0.4987, 0.4987, 0.4987, 0.4987, 0.4988, 0.4988, 0.4988, 0.4988, 0.4988, 0.4988, 0.4988, 0.4988, 0.4988, 0.4988, 0.4988, 0.4988, 0.4989, 0.4989, 0.4989, 0.4989, 0.499, 0.499, 0.499, 0.499, 0.499, 0.499, 0.499, 0.499, 0.499, 0.4991, 0.4991, 0.4991, 0.4991, 0.4991, 0.4992, 0.4992, 0.4992, 0.4992, 0.4992, 0.4992, 0.4992, 0.4992, 0.4992, 0.4992, 0.4993, 0.4993, 0.4994, 0.4994, 0.4994, 0.4994, 0.4994, 0.4994, 0.4994, 0.4994, 0.4994, 0.4994, 0.4994, 0.4994, 0.4994, 0.4995, 0.4995, 0.4995, 0.4995, 0.4995, 0.4995, 0.4995, 0.4995, 0.4995, 0.4995, 0.4995, 0.4996, 0.4996, 0.4996, 0.4996, 0.4996, 0.4996, 0.4996, 0.4996, 0.4997, 0.4997, 0.4997, 0.4997, 0.4997, 0.4997, 0.4997, 0.4998, 0.4998, 0.4998, 0.4998, 0.4998, 0.4998, 0.4998, 0.4998, 0.4998, 0.4998, 0.4999, 0.4999, 0.4999, 0.4999, 0.4999, 0.4999, 0.4999, 0.4999, 0.4999, 0.5, 0.5, 0.5, 0.5, 0.5, 0.5, 0.5, 0.5, 0.5, 0.5001, 0.5001, 0.5001, 0.5001, 0.5001, 0.5001, 0.5001, 0.5002, 0.5002, 0.5002, 0.5002, 0.5002, 0.5002, 0.5003, 0.5003, 0.5003, 0.5003, 0.5004, 0.5004, 0.5004, 0.5004, 0.5004, 0.5004, 0.5004, 0.5004, 0.5004, 0.5005, 0.5005, 0.5005, 0.5005, 0.5005, 0.5005, 0.5006, 0.5006, 0.5006, 0.5006, 0.5006, 0.5006, 0.5007, 0.5007, 0.5007, 0.5008, 0.5008, 0.5008, 0.5008, 0.5009, 0.5009, 0.5009, 0.5009, 0.5009, 0.5009, 0.501, 0.501, 0.501, 0.501, 0.501, 0.501, 0.501, 0.501, 0.5011, 0.5011, 0.5011, 0.5011, 0.5011, 0.5011, 0.5011, 0.5011, 0.5011, 0.5012, 0.5012, 0.5012, 0.5012, 0.5012, 0.5012, 0.5012, 0.5013, 0.5013, 0.5013, 0.5014, 0.5014, 0.5014, 0.5014, 0.5014, 0.5014, 0.5014, 0.5014, 0.5014, 0.5014, 0.5014, 0.5015, 0.5015, 0.5015, 0.5015, 0.5015, 0.5015, 0.5015, 0.5015, 0.5015, 0.5016, 0.5016, 0.5017, 0.5017, 0.5017, 0.5017, 0.5017, 0.5017, 0.5018, 0.5018, 0.5018, 0.5018, 0.5019, 0.5019, 0.5019, 0.502, 0.502, 0.502, 0.502, 0.502, 0.502, 0.502, 0.5021, 0.5021, 0.5021, 0.5021, 0.5021, 0.5022, 0.5022, 0.5022, 0.5022, 0.5023, 0.5023, 0.5023, 0.5023, 0.5024, 0.5024, 0.5024, 0.5025, 0.5025, 0.5025, 0.5025, 0.5025, 0.5025, 0.5025, 0.5026, 0.5026, 0.5026, 0.5026, 0.5026, 0.5027, 0.5027, 0.5027, 0.5027, 0.5027, 0.5027, 0.5027, 0.5028, 0.5028, 0.5028, 0.5029, 0.5029, 0.5029, 0.5029, 0.503, 0.503, 0.503, 0.503, 0.503, 0.5031, 0.5031, 0.5031, 0.5031, 0.5031, 0.5031, 0.5031, 0.5032, 0.5032, 0.5032, 0.5032, 0.5032, 0.5033, 0.5033, 0.5033, 0.5033, 0.5033, 0.5034, 0.5034, 0.5035, 0.5035, 0.5035, 0.5035, 0.5035, 0.5035, 0.5035, 0.5035, 0.5036, 0.5036, 0.5036, 0.5036, 0.5036, 0.5036, 0.5037, 0.5037, 0.5037, 0.5037, 0.5037, 0.5037, 0.5038, 0.5038, 0.5038, 0.5038, 0.5038, 0.5038, 0.5039, 0.5039, 0.5039, 0.5039, 0.5039, 0.5039, 0.504, 0.504, 0.504, 0.504, 0.504, 0.504, 0.5041, 0.5041, 0.5042, 0.5042, 0.5042, 0.5042, 0.5042, 0.5042, 0.5042, 0.5043, 0.5043, 0.5043, 0.5043, 0.5043, 0.5043, 0.5044, 0.5044, 0.5044, 0.5045, 0.5045, 0.5045, 0.5046, 0.5046, 0.5047, 0.5047, 0.5048, 0.5048, 0.5048, 0.5048, 0.5049, 0.505, 0.505, 0.505, 0.5051, 0.5051, 0.5051, 0.5051, 0.5051, 0.5052, 0.5053, 0.5053, 0.5053, 0.5053, 0.5053, 0.5053, 0.5053, 0.5054, 0.5054, 0.5054, 0.5055, 0.5055, 0.5055, 0.5055, 0.5056, 0.5056, 0.5057, 0.5057, 0.5057, 0.5057, 0.5057, 0.5058, 0.5058, 0.5059, 0.5059, 0.506, 0.5061, 0.5061, 0.5061, 0.5061, 0.5062, 0.5062, 0.5062, 0.5062, 0.5063, 0.5063, 0.5063, 0.5064, 0.5064, 0.5064, 0.5065, 0.5065, 0.5066, 0.5066, 0.5067, 0.5068, 0.5069, 0.5069, 0.507, 0.507, 0.507, 0.5071, 0.5072, 0.5073, 0.5073, 0.5075, 0.5075, 0.5076, 0.5076, 0.5077, 0.508, 0.5082, 0.5082, 0.5084, 0.5084, 0.5085, 0.5086, 0.5086, 0.5087, 0.5088, 0.5089, 0.5093, 0.5097, 0.5106, 0.5111, 0.5117, 0.5118, 0.5119, 0.5122, 0.5128, 0.5149, 0.5161]\n"
     ]
    },
    {
     "data": {
      "text/plain": [
       "[<matplotlib.lines.Line2D at 0x1a24b7eeb8>]"
      ]
     },
     "execution_count": 19,
     "metadata": {},
     "output_type": "execute_result"
    },
    {
     "data": {
      "image/png": "[encoded data removed]",
      "text/plain": [
       "<Figure size 432x288 with 1 Axes>"
      ]
     },
     "metadata": {
      "needs_background": "light"
     },
     "output_type": "display_data"
    }
   ],
   "source": [
    "import numpy as np # fundamental package for scientific computing\n",
    "import matplotlib.pyplot as plt\n",
    "%matplotlib inline \n",
    "\n",
    "n = 1000\n",
    "prob = []\n",
    "for i in range(n):\n",
    "    prob.append(figure_p(100, 0.5, 0.3))\n",
    "    prob.sort()\n",
    "print(prob)\n",
    "plt.draw()\n",
    "plt.plot(prob)"
   ]
  },
  {
   "cell_type": "code",
   "execution_count": 20,
   "metadata": {},
   "outputs": [
    {
     "name": "stdout",
     "output_type": "stream",
     "text": [
      "0.49824999999999997\n",
      "0.4981905\n"
     ]
    }
   ],
   "source": [
    "print(np.median(prob))\n",
    "print(np.mean(prob))"
   ]
  }
 ],
 "metadata": {
  "kernelspec": {
   "display_name": "Python 3",
   "language": "python",
   "name": "python3"
  },
  "language_info": {
   "codemirror_mode": {
    "name": "ipython",
    "version": 3
   },
   "file_extension": ".py",
   "mimetype": "text/x-python",
   "name": "python",
   "nbconvert_exporter": "python",
   "pygments_lexer": "ipython3",
   "version": "3.6.8"
  }
 },
 "nbformat": 4,
 "nbformat_minor": 2
}
