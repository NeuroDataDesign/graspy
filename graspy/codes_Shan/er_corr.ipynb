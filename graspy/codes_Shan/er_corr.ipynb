{
 "cells": [
  {
   "cell_type": "code",
   "execution_count": 2,
   "metadata": {},
   "outputs": [],
   "source": [
    "from graspy.simulations import er_np\n",
    "from scipy.stats import bernoulli\n",
    "import copy\n",
    "\n",
    "\n",
    "def er_corr(n, p, rho):\n",
    "    \"\"\"\n",
    "    Generate a correlated Erdos-Renyi graph G2 based on G1 graph\n",
    "    with Bernoulli distribution.\n",
    "    Parameters\n",
    "    ----------\n",
    "    n: dimension if the matrix\n",
    "    p: a real number in the interval (0,1)\n",
    "        the probability of G1 with the Bernoulli distribution\n",
    "        also a parameter for generate G2\n",
    "    rho: a real number in the interval [0,1]\n",
    "        another parameter to definite the correlation between graph1 and graph2\n",
    "    Returns\n",
    "    -------\n",
    "    origin_G1: origin matrix of graph1\n",
    "    G1: generated adjacency matrix of graph2\n",
    "    Examples\n",
    "    --------\n",
    "    >>> er_corr(10, 0.5, 0.3)\n",
    "    >>> print(G1)\n",
    "    >>> print(G2)\n",
    "    array([[0. 1. 1. 0. 0. 1. 1. 1. 0. 0.],\n",
    "           [1. 0. 1. 1. 1. 1. 1. 0. 0. 0.],\n",
    "           [1. 1. 0. 0. 1. 0. 0. 0. 0. 1.],\n",
    "           [0. 1. 0. 0. 0. 1. 0. 1. 1. 1.],\n",
    "           [0. 1. 1. 0. 0. 1. 1. 1. 0. 0.],\n",
    "           [1. 1. 0. 1. 1. 0. 0. 1. 1. 0.],\n",
    "           [1. 1. 0. 0. 1. 0. 0. 0. 0. 0.],\n",
    "           [1. 0. 0. 1. 1. 1. 0. 0. 1. 0.],\n",
    "           [0. 0. 0. 1. 0. 1. 0. 1. 0. 1.],\n",
    "           [0. 0. 1. 1. 0. 0. 0. 0. 1. 0.]]\n",
    "          [[0. 1. 1. 1. 1. 0. 1. 1. 0. 0.],\n",
    "           [0. 1. 1. 0. 0. 0. 1. 0. 1. 0.],\n",
    "           [1. 0. 0. 1. 0. 0. 0. 0. 0. 1.],\n",
    "           [1. 1. 1. 0. 1. 1. 0. 1. 1. 1.],\n",
    "           [0. 1. 1. 0. 1. 1. 0. 0. 0. 1.],\n",
    "           [1. 0. 0. 0. 1. 1. 1. 1. 1. 0.],\n",
    "           [0. 1. 1. 1. 1. 0. 1. 0. 0. 1.],\n",
    "           [1. 1. 0. 1. 1. 1. 0. 0. 1. 0.],\n",
    "           [0. 0. 0. 1. 0. 1. 1. 1. 1. 1.],\n",
    "           [0. 1. 0. 0. 0. 1. 1. 0. 0. 0.]])\n",
    "    \"\"\"\n",
    "    G1 = er_np(n, p)\n",
    "    origin_G1 = copy.deepcopy(G1)\n",
    "    sumG1 = 0\n",
    "    for i in range(n):\n",
    "        for j in range(n):\n",
    "            sumG1 += origin_G1[i][j]\n",
    "\n",
    "    for i in range(n):\n",
    "        for j in range(n):\n",
    "            if G1[i][j] == 1:\n",
    "                G1[i][j] = bernoulli.rvs(p+rho*(1-p), size=1, loc=0)\n",
    "            else:\n",
    "                G1[i][j] = bernoulli.rvs(p*(1-rho), size=1, loc=0)\n",
    "    sumG2 = 0\n",
    "    for i in range(n):\n",
    "        for j in range(n):\n",
    "            sumG2 += G1[i][j]\n",
    "\n",
    "    return origin_G1, G1"
   ]
  },
  {
   "cell_type": "code",
   "execution_count": 3,
   "metadata": {},
   "outputs": [
    {
     "name": "stdout",
     "output_type": "stream",
     "text": [
      "[[0. 1. 0. 1. 0. 1. 1. 0. 0. 1.]\n",
      " [1. 0. 1. 1. 1. 0. 1. 0. 1. 0.]\n",
      " [0. 1. 0. 0. 1. 0. 0. 1. 0. 0.]\n",
      " [1. 1. 0. 0. 1. 1. 0. 1. 1. 0.]\n",
      " [0. 1. 1. 1. 0. 1. 0. 0. 0. 0.]\n",
      " [1. 0. 0. 1. 1. 0. 0. 1. 1. 0.]\n",
      " [1. 1. 0. 0. 0. 0. 0. 1. 1. 0.]\n",
      " [0. 0. 1. 1. 0. 1. 1. 0. 1. 0.]\n",
      " [0. 1. 0. 1. 0. 1. 1. 1. 0. 0.]\n",
      " [1. 0. 0. 0. 0. 0. 0. 0. 0. 0.]]\n",
      "[[0. 0. 0. 1. 0. 1. 0. 1. 0. 1.]\n",
      " [0. 1. 1. 1. 1. 1. 1. 1. 1. 1.]\n",
      " [0. 1. 0. 0. 1. 1. 0. 1. 0. 0.]\n",
      " [0. 0. 0. 0. 1. 0. 1. 1. 0. 0.]\n",
      " [0. 1. 1. 1. 1. 1. 0. 0. 1. 1.]\n",
      " [1. 0. 0. 1. 0. 0. 1. 1. 1. 0.]\n",
      " [1. 1. 0. 1. 0. 0. 0. 1. 0. 1.]\n",
      " [1. 1. 1. 1. 0. 0. 0. 0. 0. 0.]\n",
      " [0. 1. 1. 0. 0. 0. 0. 0. 0. 0.]\n",
      " [1. 1. 1. 1. 1. 0. 0. 0. 1. 1.]]\n"
     ]
    }
   ],
   "source": [
    "if __name__ == '__main__':\n",
    "\n",
    "    G1, G2 = er_corr(10, 0.5, 0.3)\n",
    "    print(G1)\n",
    "    print(G2)"
   ]
  }
 ],
 "metadata": {
  "kernelspec": {
   "display_name": "Python 3",
   "language": "python",
   "name": "python3"
  },
  "language_info": {
   "codemirror_mode": {
    "name": "ipython",
    "version": 3
   },
   "file_extension": ".py",
   "mimetype": "text/x-python",
   "name": "python",
   "nbconvert_exporter": "python",
   "pygments_lexer": "ipython3",
   "version": "3.6.8"
  }
 },
 "nbformat": 4,
 "nbformat_minor": 2
}
