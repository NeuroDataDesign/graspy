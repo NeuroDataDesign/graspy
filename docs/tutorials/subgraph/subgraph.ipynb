{
 "cells": [
  {
   "cell_type": "markdown",
   "metadata": {},
   "source": [
    "# Signal Subgraph Estimators"
   ]
  },
  {
   "cell_type": "markdown",
   "metadata": {},
   "source": [
    "### This tutorial will introduce the following signal-subgraph estimators:\n",
    "- Incoherent subgraph estimator\n",
    "- Coherent subgraph estimator"
   ]
  },
  {
   "cell_type": "markdown",
   "metadata": {},
   "source": [
    "Preliminaries\n",
    "\n",
    "$n$ - the number of nodes in the graph\n",
    "the number of samples of the graph model\n",
    "the probability of a graph sample being of class 1\n",
    "\n",
    "(Lil excerpt about what a signal-subgraph is)\n",
    "\n",
    "The estimator that is used to find the signal-subgraph determines certain properties of the resulting subgraph.\n",
    "\n",
    "the number of edges that must be present in the subgraph\n",
    "the number of vertices that each edge in the subgraph must be incident to\n",
    "\n",
    "Both estimators use (first param) to determine the size of the resulting subgraph. (second parameter) is only used for the coherent estimator, which constrains the subgraph to (second param) vertices. "
   ]
  },
  {
   "cell_type": "markdown",
   "metadata": {},
   "source": [
    "## Incoherent Signal-Subgraph Estimator\n",
    "\n",
    "The incoherent estimator (...)"
   ]
  },
  {
   "cell_type": "markdown",
   "metadata": {},
   "source": [
    "For this example we will randomly select 20 edges from a graph with 70 vertices. These edges will have distinct edge probabilities when conditioned upon different graph classes. "
   ]
  },
  {
   "cell_type": "code",
   "execution_count": null,
   "metadata": {},
   "outputs": [],
   "source": [
    "#randomly choose 20 from 70x70 array. Refer to local notebook used during sg.py development"
   ]
  }
 ],
 "metadata": {
  "kernelspec": {
   "display_name": "Python 3",
   "language": "python",
   "name": "python3"
  },
  "language_info": {
   "codemirror_mode": {
    "name": "ipython",
    "version": 3
   },
   "file_extension": ".py",
   "mimetype": "text/x-python",
   "name": "python",
   "nbconvert_exporter": "python",
   "pygments_lexer": "ipython3",
   "version": "3.7.4"
  }
 },
 "nbformat": 4,
 "nbformat_minor": 2
}
