{
 "cells": [
  {
   "cell_type": "markdown",
   "metadata": {},
   "source": [
    "# Signal Subgraph Estimators"
   ]
  },
  {
   "cell_type": "markdown",
   "metadata": {},
   "source": [
    "### This tutorial will introduce the following signal-subgraph estimators:\n",
    "- Incoherent subgraph estimator\n",
    "- Coherent subgraph estimator"
   ]
  },
  {
   "cell_type": "code",
   "execution_count": 29,
   "metadata": {},
   "outputs": [
    {
     "ename": "ModuleNotFoundError",
     "evalue": "No module named 'graspy.subgraph'",
     "output_type": "error",
     "traceback": [
      "\u001b[1;31m---------------------------------------------------------------------------\u001b[0m",
      "\u001b[1;31mModuleNotFoundError\u001b[0m                       Traceback (most recent call last)",
      "\u001b[1;32m<ipython-input-29-a681af0223a3>\u001b[0m in \u001b[0;36m<module>\u001b[1;34m\u001b[0m\n\u001b[1;32m----> 1\u001b[1;33m \u001b[1;32mimport\u001b[0m \u001b[0mgraspy\u001b[0m\u001b[1;33m.\u001b[0m\u001b[0msubgraph\u001b[0m \u001b[1;32mas\u001b[0m \u001b[0msg\u001b[0m\u001b[1;33m\u001b[0m\u001b[1;33m\u001b[0m\u001b[0m\n\u001b[0m\u001b[0;32m      2\u001b[0m \u001b[1;32mimport\u001b[0m \u001b[0mnumpy\u001b[0m \u001b[1;32mas\u001b[0m \u001b[0mnp\u001b[0m\u001b[1;33m\u001b[0m\u001b[1;33m\u001b[0m\u001b[0m\n",
      "\u001b[1;31mModuleNotFoundError\u001b[0m: No module named 'graspy.subgraph'"
     ]
    }
   ],
   "source": [
    "import graspy\n",
    "import numpy as np"
   ]
  },
  {
   "cell_type": "markdown",
   "metadata": {},
   "source": [
    "#### Preliminaries\n",
    "\n",
    "The general graph model is characterized by $M_V(m,s;\\pi,p,q)$, where: \n",
    "\n",
    "$s$ - the number of edges that must be present in the subgraph\n",
    "\n",
    "$m$ - the number of vertices that each edge in the subgraph must be incident to\n",
    "\n",
    "$V$ - the number of vertices in the graph\n",
    "\n",
    "$n$ - the number of graph samples\n",
    "\n",
    "$\\pi$ - the probability of a graph sample being of class 1\n",
    "\n",
    "$p$ - the probability of edges in the signal-subgraph, conditioned on Class 0\n",
    "\n",
    "$q$ - the probability of edges in the signal-subgraph, conditioned on Class 1\n",
    "\n",
    "The signal-subgraph is a subset of edges with distinct class-conditional likelihood parameters. The signal-subgraph estimator evaluates a test statistic for each edge in the graph and selects $s$ edges with the lowest test statistic, where $s$ is the desired size of the signal-subgraph. \n",
    "\n",
    "The estimator that is used to find the signal-subgraph determines certain properties of the resulting subgraph. Both estimators use $s$ to determine the size of the resulting subgraph. $m$ is only used for the coherent estimator, which constrains the subgraph to $m$ vertices. "
   ]
  },
  {
   "cell_type": "markdown",
   "metadata": {},
   "source": [
    "## Incoherent Signal-Subgraph Estimator\n",
    "\n",
    "For this example we will randomly select 20 edges from a graph with 70 vertices. These edges will have distinct class-conditional edge probabilities, and the graphs will be sampled from the model $M_{70}(20; 0.5, 0.1, 0.3)$."
   ]
  },
  {
   "cell_type": "code",
   "execution_count": 28,
   "metadata": {},
   "outputs": [
    {
     "ename": "ModuleNotFoundError",
     "evalue": "No module named 'graspy.subgraph'",
     "output_type": "error",
     "traceback": [
      "\u001b[1;31m---------------------------------------------------------------------------\u001b[0m",
      "\u001b[1;31mModuleNotFoundError\u001b[0m                       Traceback (most recent call last)",
      "\u001b[1;32m<ipython-input-28-2acac1f9b38a>\u001b[0m in \u001b[0;36m<module>\u001b[1;34m\u001b[0m\n\u001b[1;32m----> 1\u001b[1;33m \u001b[1;32mfrom\u001b[0m \u001b[0mgraspy\u001b[0m\u001b[1;33m.\u001b[0m\u001b[0msubgraph\u001b[0m \u001b[1;32mimport\u001b[0m \u001b[0mSignalSubgraph\u001b[0m\u001b[1;33m\u001b[0m\u001b[1;33m\u001b[0m\u001b[0m\n\u001b[0m\u001b[0;32m      2\u001b[0m \u001b[1;33m\u001b[0m\u001b[0m\n\u001b[0;32m      3\u001b[0m \u001b[0mverts\u001b[0m \u001b[1;33m=\u001b[0m \u001b[1;36m10\u001b[0m\u001b[1;33m\u001b[0m\u001b[1;33m\u001b[0m\u001b[0m\n\u001b[0;32m      4\u001b[0m \u001b[0msverts\u001b[0m \u001b[1;33m=\u001b[0m \u001b[1;36m20\u001b[0m\u001b[1;33m\u001b[0m\u001b[1;33m\u001b[0m\u001b[0m\n\u001b[0;32m      5\u001b[0m \u001b[0mpi\u001b[0m \u001b[1;33m=\u001b[0m \u001b[1;36m0.5\u001b[0m\u001b[1;33m\u001b[0m\u001b[1;33m\u001b[0m\u001b[0m\n",
      "\u001b[1;31mModuleNotFoundError\u001b[0m: No module named 'graspy.subgraph'"
     ]
    }
   ],
   "source": [
    "from graspy.subgraph import SignalSubgraph\n",
    "\n",
    "verts = 10\n",
    "sverts = 20\n",
    "pi = 0.5\n",
    "p = 0.1\n",
    "q = 0.3\n",
    "nsamples = 10\n",
    "\n",
    "np.random.seed(8888)\n",
    "ys = np.zeros(nsamples,dtype=int)\n",
    "ys[1::2] = 1\n",
    "vect = p*np.ones(verts**2)\n",
    "vect[np.random.choice(len(vect),sverts,replace=False)] = q\n",
    "vect = np.reshape(vect,(verts,verts))\n",
    "\n",
    "blank = vect[:,:,None]+np.zeros(nsamples)\n",
    "A = p*np.ones((verts,verts,nsamples))\n",
    "A[:,:,ys] = blank \n",
    "A = np.random.binomial(1,A)\n",
    "\n",
    "sigsub = SignalSubgraph\n",
    "estsub_inc = estimate_signal_subgraph(A,ys,sverts)"
   ]
  },
  {
   "cell_type": "code",
   "execution_count": null,
   "metadata": {},
   "outputs": [],
   "source": []
  }
 ],
 "metadata": {
  "kernelspec": {
   "display_name": "Python 3",
   "language": "python",
   "name": "python3"
  },
  "language_info": {
   "codemirror_mode": {
    "name": "ipython",
    "version": 3
   },
   "file_extension": ".py",
   "mimetype": "text/x-python",
   "name": "python",
   "nbconvert_exporter": "python",
   "pygments_lexer": "ipython3",
   "version": "3.7.4"
  }
 },
 "nbformat": 4,
 "nbformat_minor": 2
}
